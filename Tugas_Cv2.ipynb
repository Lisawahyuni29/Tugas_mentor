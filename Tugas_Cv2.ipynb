{
  "nbformat": 4,
  "nbformat_minor": 0,
  "metadata": {
    "colab": {
      "provenance": [],
      "authorship_tag": "ABX9TyNQtD9OHNKh1FBzi5op0Kl8",
      "include_colab_link": true
    },
    "kernelspec": {
      "name": "python3",
      "display_name": "Python 3"
    },
    "language_info": {
      "name": "python"
    }
  },
  "cells": [
    {
      "cell_type": "markdown",
      "metadata": {
        "id": "view-in-github",
        "colab_type": "text"
      },
      "source": [
        "<a href=\"https://colab.research.google.com/github/Lisawahyuni29/Tugas_mentor/blob/main/Tugas_Cv2.ipynb\" target=\"_parent\"><img src=\"https://colab.research.google.com/assets/colab-badge.svg\" alt=\"Open In Colab\"/></a>"
      ]
    },
    {
      "cell_type": "markdown",
      "source": [
        "Nama : Lisa Wahyuni\n",
        "NIM : 2021400251\n",
        "Kelas : Informatika 7B\n",
        "Makul : Computer Vision"
      ],
      "metadata": {
        "id": "vv7Zpe0qjy0e"
      }
    },
    {
      "cell_type": "code",
      "execution_count": null,
      "metadata": {
        "id": "0frHXDxyaKqK"
      },
      "outputs": [],
      "source": [
        "# memanggil modul yang diperlukan\n",
        "# low-pass filtering\n",
        "\n",
        "import cv2\n",
        "import numpy as np\n",
        "from matplotlib import pyplot as plt\n",
        "from google.colab.patches import cv2_imshow\n",
        "\n",
        "\n",
        "#bgr\n",
        "img = cv2.imread('pict1.jpg')\n",
        "\n",
        "#rgb\n",
        "gbr = cv2.cvtColor(img, cv2.COLOR_BGR2RGB)\n",
        "\n",
        "# tampilkan gambar awal tanpa filter\n",
        "cv2_imshow(img)\n",
        "\n",
        "\n",
        "# membuat filter: matriks berukuran 5 x 5\n",
        "kernel = np.ones((5,5),np.float32)/25\n",
        "print(kernel)\n",
        "\n",
        "# lakukan filtering\n",
        "kucing_filter = cv2.filter2D(img,-1,kernel)\n",
        "\n",
        "cv2_imshow(kucing_filter)\n",
        "# salt and pepper\n"
      ]
    },
    {
      "cell_type": "markdown",
      "source": [
        "Selain menggunakan imshow seperti di atas, kita juga dapat menggunakan modul Matplotlib, seperti berikut:"
      ],
      "metadata": {
        "id": "TrI4znj1d2QN"
      }
    },
    {
      "cell_type": "code",
      "source": [
        "# perbesar ukuran hasil plotting jika diperlukan\n",
        "plt.rcParams[\"figure.figsize\"] = (15,15)\n",
        "\n",
        "# plot pertama, gambar asli\n",
        "plt.subplot(121),plt.imshow(gbr),plt.title('Original')\n",
        "\n",
        "plt.xticks([]), plt.yticks([])\n",
        "\n",
        "# kedua, hasil filter\n",
        "plt.subplot(122),plt.imshow(kucing_filter),\n",
        "plt.title('Averaging')\n",
        "plt.xticks([]), plt.yticks([])\n",
        "\n",
        "# Plot!\n",
        "plt.show()"
      ],
      "metadata": {
        "id": "cfpmJ6UGd7vC"
      },
      "execution_count": null,
      "outputs": []
    },
    {
      "cell_type": "markdown",
      "source": [],
      "metadata": {
        "id": "TijYA5EQeJEv"
      }
    },
    {
      "cell_type": "code",
      "source": [
        "gbr_blur = cv2.blur(img,(5,5))\n",
        "\n",
        "cv2_imshow(gbr_blur)"
      ],
      "metadata": {
        "id": "E5tV0sLRe472"
      },
      "execution_count": null,
      "outputs": []
    },
    {
      "cell_type": "code",
      "source": [
        "# ini adalah cara lain untuk membuat sebuah kernel,\n",
        "# yaitu dengan menggunakan np.matrix\n",
        "# kali ini, ukuran matriksnya 3 x 3\n",
        "kernel = np.matrix([\n",
        "          [1, 1, 1],\n",
        "          [1, 2, 1],\n",
        "          [1, 1, 1]\n",
        "          ])/25\n",
        "print(kernel)\n",
        "\n",
        "# buat lagi filteringnya\n",
        "gbr_filter = cv2.filter2D(img,-1,kernel)\n",
        "\n",
        "# tampilkan\n",
        "cv2_imshow(gbr_filter)"
      ],
      "metadata": {
        "id": "96x5_t9gfqbp"
      },
      "execution_count": null,
      "outputs": []
    },
    {
      "cell_type": "code",
      "source": [
        "# High-Pass Filtering\n",
        "# Highpass Filter\n",
        "\n",
        "# sebenarnya kita tidak perlu melakukan filtering lagi. Cukup sekali saja\n",
        "# di bagian awal, selama notebook ini tetap terhubung\n",
        "import cv2\n",
        "import numpy as np\n",
        "from matplotlib import pyplot as plt\n",
        "\n",
        "\n",
        "# memanggil citra sebagai grayscale (argument 0)\n",
        "img = cv2.imread('pict2.jpg',0)\n",
        "\n",
        "# menerapkan algoritma high-pass filtering:\n",
        "# laplacian\n",
        "laplacian = cv2.Laplacian(img,cv2.CV_64F)\n",
        "\n",
        "# sobel dengan ukuran kernel 5\n",
        "sobelx = cv2.Sobel(img,cv2.CV_64F,1,0,ksize=5)\n",
        "sobely = cv2.Sobel(img,cv2.CV_64F,0,1,ksize=5)\n",
        "\n",
        "# Catatan:\n",
        "# CV_64F pada contoh di atas menunjukkan nilai bit dari citra\n",
        "# yang dihasilkan serta tipe datanya (F = Float)\n",
        "\n",
        "# perbesar ukuran hasil plotting\n",
        "plt.rcParams[\"figure.figsize\"] = (20,20)\n",
        "\n",
        "\n",
        "# menampilkan hasil filter\n",
        "plt.subplot(2,2,1),plt.imshow(img,cmap = 'gray')\n",
        "plt.title('Original'), plt.xticks([]), plt.yticks([])\n",
        "plt.subplot(2,2,2),plt.imshow(laplacian,cmap = 'gray')\n",
        "plt.title('Laplacian'), plt.xticks([]), plt.yticks([])\n",
        "plt.subplot(2,2,3),plt.imshow(sobelx,cmap = 'gray')\n",
        "plt.title('Sobel X'), plt.xticks([]), plt.yticks([])\n",
        "plt.subplot(2,2,4),plt.imshow(sobely,cmap = 'gray')\n",
        "plt.title('Sobel Y'), plt.xticks([]), plt.yticks([])\n",
        "plt.show()"
      ],
      "metadata": {
        "id": "kBCmcWhwgA3F"
      },
      "execution_count": null,
      "outputs": []
    },
    {
      "cell_type": "code",
      "source": [
        "# memanggil citra sebagai grayscale (argument 0)\n",
        "img = cv2.imread('pict3.jpg',0)\n",
        "\n",
        "# memanggil fungsi Canny Edges dengan argument (citra, nilai_min, nilai_max)\n",
        "edges = cv2.Canny(img,100,200)\n",
        "\n",
        "plt.subplot(121),plt.imshow(img,cmap = 'gray')\n",
        "plt.title('Original Image'), plt.xticks([]), plt.yticks([])\n",
        "plt.subplot(122),plt.imshow(edges,cmap = 'gray')\n",
        "plt.title('Edge Image'), plt.xticks([]), plt.yticks([])\n",
        "\n",
        "plt.show()"
      ],
      "metadata": {
        "id": "TmhbL_JPgu9C"
      },
      "execution_count": null,
      "outputs": []
    },
    {
      "cell_type": "code",
      "source": [
        "# membaca gambar baymax\n",
        "img = cv2.imread('pict3.jpg',0)\n",
        "\n",
        "# Hitungan threshold.\n",
        "# Perhatikan nilai ambang batas bawah dan atas dari tiap fungsi\n",
        "# yang diberikan\n",
        "ret,thresh1 = cv2.threshold(img,127,255,cv2.THRESH_BINARY)\n",
        "ret,thresh2 = cv2.threshold(img,127,255,cv2.THRESH_BINARY_INV)\n",
        "ret,thresh3 = cv2.threshold(img,127,255,cv2.THRESH_TRUNC)\n",
        "ret,thresh4 = cv2.threshold(img,127,255,cv2.THRESH_TOZERO)\n",
        "ret,thresh5 = cv2.threshold(img,127,255,cv2.THRESH_TOZERO_INV)\n",
        "\n",
        "# menampilkan hasil\n",
        "titles = ['Gambar asli','BINARY','BINARY_INV','TRUNC','TOZERO','TOZERO_INV']\n",
        "images = [img, thresh1, thresh2, thresh3, thresh4, thresh5]\n",
        "\n",
        "# menampilkan beberapa gambar sekaligus\n",
        "for i in range(6):\n",
        "    # 3 baris, 2 kolom\n",
        "    plt.subplot(3,2,i+1),plt.imshow(images[i],'gray')\n",
        "    plt.title(titles[i])\n",
        "    plt.xticks([]),plt.yticks([])\n",
        "plt.show()\n"
      ],
      "metadata": {
        "id": "xbxG2QE5hG5c"
      },
      "execution_count": null,
      "outputs": []
    },
    {
      "cell_type": "code",
      "source": [
        "# masih menggunakan variabel img yang sama\n",
        "#img = cv2.imread('images/pict3.jpg',0)\n",
        "\n",
        "# digunakan median blur untuk menghaluskan tepi objek pada citra\n",
        "# ini diperlukan agar thresholding memberikan hasil lebih baik\n",
        "img = cv2.medianBlur(img,5)\n",
        "\n",
        "# Lakukan Thresholding\n",
        "# Binary Threshold\n",
        "ret,th1 = cv2.threshold(img,127,255,cv2.THRESH_BINARY)\n",
        "\n",
        "# Adaptive Threshold dengan Mean\n",
        "th2 = cv2.adaptiveThreshold(img,255,cv2.ADAPTIVE_THRESH_MEAN_C,\\\n",
        "            cv2.THRESH_BINARY,11,2)\n",
        "\n",
        "# Adaptive Threshold dengan Gaussian\n",
        "th3 = cv2.adaptiveThreshold(img,255,cv2.ADAPTIVE_THRESH_GAUSSIAN_C,\\\n",
        "            cv2.THRESH_BINARY,11,2)\n",
        "\n",
        "\n",
        "# Plotting\n",
        "titles = ['Original Image', 'Global Thresholding (v = 127)',\n",
        "            'Adaptive Mean Thresholding', 'Adaptive Gaussian Thresholding']\n",
        "images = [img, th1, th2, th3]\n",
        "\n",
        "# menampilkan hasil\n",
        "for i in range(4):\n",
        "    plt.subplot(2,2,i+1)\n",
        "    plt.imshow(images[i],'gray')\n",
        "    plt.title(titles[i])\n",
        "    plt.xticks([]),plt.yticks([])\n",
        "plt.show()\n"
      ],
      "metadata": {
        "id": "4Lm4l5aAhbe8"
      },
      "execution_count": null,
      "outputs": []
    },
    {
      "cell_type": "code",
      "source": [
        "# Menerapkan Gaussian filtering sebelum Otsu’s thresholding\n",
        "blur = cv2.GaussianBlur(img,(5,5),0)\n",
        "\n",
        "\n",
        "# Otsu\n",
        "ret3,th3 = cv2.threshold(blur,0,255,cv2.THRESH_BINARY+cv2.THRESH_OTSU)\n",
        "\n",
        "# Plotting\n",
        "plt.imshow(th3,'gray')\n",
        "plt.show()\n"
      ],
      "metadata": {
        "id": "959RiXmPh4Li"
      },
      "execution_count": null,
      "outputs": []
    },
    {
      "cell_type": "code",
      "source": [
        "img = cv2.imread('pict3.jpg',0)\n",
        "\n",
        "# deteksi tepi dengan Canny Edge\n",
        "edges = cv2.Canny(img,100,200)\n",
        "\n",
        "plt.subplot(121),plt.imshow(img,cmap = 'gray')\n",
        "plt.title('Original Image'), plt.xticks([]), plt.yticks([])\n",
        "plt.subplot(122),plt.imshow(edges,cmap = 'gray')\n",
        "plt.title('Edge Image'), plt.xticks([]), plt.yticks([])\n",
        "\n",
        "plt.show()"
      ],
      "metadata": {
        "id": "vzgptoS8iFG7"
      },
      "execution_count": null,
      "outputs": []
    },
    {
      "cell_type": "code",
      "source": [
        "# gambar berwarna untuk diplot\n",
        "img_ori = cv2.imread('pict3.jpg')\n",
        "\n",
        "# grayscale untuk diolah\n",
        "img = cv2.imread('pict3.jpg',0)\n",
        "\n",
        "# Menerapkan Gaussian filtering sebelum Otsu’s thresholding\n",
        "blur = cv2.GaussianBlur(img,(5,5),0)\n",
        "\n",
        "# Otsu\n",
        "ret3,th3 = cv2.threshold(blur,0,255,cv2.THRESH_BINARY+cv2.THRESH_OTSU)\n",
        "\n",
        "# Menggunakan Canny Edge untuk deteksi tepi\n",
        "edged = cv2.Canny(th3, 30, 200)\n",
        "\n",
        "# mencari kontur\n",
        "contours, hierarchy = cv2.findContours(edged,\n",
        "    cv2.RETR_EXTERNAL, cv2.CHAIN_APPROX_NONE)\n",
        "\n",
        "cv2_imshow(edged)\n",
        "\n",
        "print(\"Jumlah kontur yang berhasil dideteksi = \" + str(len(contours)))\n",
        "\n",
        "# Gambar kontur yang dideteksi\n",
        "# -1 artinya gambar semua kontur yang ditemukan\n",
        "cv2.drawContours(img_ori, contours, -1, (0, 255, 0), 3)\n",
        "\n",
        "cv2_imshow(img_ori)\n"
      ],
      "metadata": {
        "id": "guRfbGVgiP10"
      },
      "execution_count": null,
      "outputs": []
    },
    {
      "cell_type": "code",
      "source": [
        "# baca lagi gambar baymax: variabel sebelumnya sudah tergambar kontur\n",
        "img_ori = cv2.imread('pict3.jpg')\n",
        "\n",
        "# untuk tiap kontur yang dideteksi\n",
        "for i,cnt in enumerate(contours):\n",
        "  if cv2.contourArea(cnt) > 220:\n",
        "    # jika area kontur lebih dari 220 piksel, baru konturnya digambar\n",
        "    cv2.drawContours(img_ori,[cnt], 0, (255), 3)\n",
        "\n",
        "# tampilkan gambar yang sudah diberi kontur tersebut\n",
        "cv2_imshow(img_ori)\n"
      ],
      "metadata": {
        "id": "iQVlOEGPjTzj"
      },
      "execution_count": null,
      "outputs": []
    }
  ]
}